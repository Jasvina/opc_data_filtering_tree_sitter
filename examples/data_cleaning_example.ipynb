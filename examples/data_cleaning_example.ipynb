{
 "cells": [
  {
   "cell_type": "markdown",
   "metadata": {},
   "source": [
    "Add the root path to the sys path so that we can import the modules."
   ]
  },
  {
   "cell_type": "code",
   "execution_count": 1,
   "metadata": {},
   "outputs": [],
   "source": [
    "import sys\n",
    "\n",
    "ROOT_PATH = \"..\"\n",
    "\n",
    "sys.path.append(ROOT_PATH)"
   ]
  },
  {
   "cell_type": "markdown",
   "metadata": {},
   "source": [
    "### 1. Preprecessing"
   ]
  },
  {
   "cell_type": "markdown",
   "metadata": {},
   "source": [
    "In this step, we firstly generate attributes used in our filtering framework, including:\n",
    "\n",
    "- ```text```: str, content of files\n",
    "- ```filename```: str, name of files\n",
    "- ```lang```: str, language type of files\n",
    "- ```ext```: str, file extension of files\n",
    "- ```file_size_in_byte```: int, file volume of files (units are byte)\n",
    "- ```program_lang```: str, programming language type of files\n",
    "- ```doc_type```: str, documentation type, the super categories based on programming language types, includes \"code\", \"data\" and \"text\""
   ]
  },
  {
   "cell_type": "code",
   "execution_count": 2,
   "metadata": {},
   "outputs": [
    {
     "name": "stdout",
     "output_type": "stream",
     "text": [
      "code_df.shape: (120, 7)\n"
     ]
    },
    {
     "name": "stderr",
     "output_type": "stream",
     "text": [
      "Warning : `load_model` does not return WordVectorModel or SupervisedModel any more, but a `FastText` object which is very similar.\n"
     ]
    },
    {
     "data": {
      "text/html": [
       "<div>\n",
       "<style scoped>\n",
       "    .dataframe tbody tr th:only-of-type {\n",
       "        vertical-align: middle;\n",
       "    }\n",
       "\n",
       "    .dataframe tbody tr th {\n",
       "        vertical-align: top;\n",
       "    }\n",
       "\n",
       "    .dataframe thead th {\n",
       "        text-align: right;\n",
       "    }\n",
       "</style>\n",
       "<table border=\"1\" class=\"dataframe\">\n",
       "  <thead>\n",
       "    <tr style=\"text-align: right;\">\n",
       "      <th></th>\n",
       "      <th>ext</th>\n",
       "      <th>text</th>\n",
       "      <th>filename</th>\n",
       "      <th>lang</th>\n",
       "      <th>file_size_in_byte</th>\n",
       "      <th>program_lang</th>\n",
       "      <th>doc_type</th>\n",
       "    </tr>\n",
       "  </thead>\n",
       "  <tbody>\n",
       "    <tr>\n",
       "      <th>0</th>\n",
       "      <td>py</td>\n",
       "      <td>#coding=utf-8\\n#上面一句是定义python的编码，必须写在第一句\\n\\nfr...</td>\n",
       "      <td>Dm015_dataframe_sum</td>\n",
       "      <td>en</td>\n",
       "      <td>648</td>\n",
       "      <td>python</td>\n",
       "      <td>code</td>\n",
       "    </tr>\n",
       "    <tr>\n",
       "      <th>1</th>\n",
       "      <td>py</td>\n",
       "      <td>\"\"\"passlib.crypto._blowfish.base - unoptimized...</td>\n",
       "      <td>base</td>\n",
       "      <td>en</td>\n",
       "      <td>20390</td>\n",
       "      <td>python</td>\n",
       "      <td>code</td>\n",
       "    </tr>\n",
       "    <tr>\n",
       "      <th>2</th>\n",
       "      <td>py</td>\n",
       "      <td># coding=utf-8\\n\"\"\"\\ndesc..\\n    :copyright: (...</td>\n",
       "      <td>app</td>\n",
       "      <td>en</td>\n",
       "      <td>3356</td>\n",
       "      <td>python</td>\n",
       "      <td>code</td>\n",
       "    </tr>\n",
       "    <tr>\n",
       "      <th>3</th>\n",
       "      <td>py</td>\n",
       "      <td># -*- coding: utf-8 -*-\\n#\\n# Copyright (C) 20...</td>\n",
       "      <td>sysconfig</td>\n",
       "      <td>en</td>\n",
       "      <td>26955</td>\n",
       "      <td>python</td>\n",
       "      <td>code</td>\n",
       "    </tr>\n",
       "    <tr>\n",
       "      <th>4</th>\n",
       "      <td>py</td>\n",
       "      <td>/usr/lib/python2.7/copy_reg.py</td>\n",
       "      <td>copy_reg</td>\n",
       "      <td>pt</td>\n",
       "      <td>30</td>\n",
       "      <td>python</td>\n",
       "      <td>code</td>\n",
       "    </tr>\n",
       "  </tbody>\n",
       "</table>\n",
       "</div>"
      ],
      "text/plain": [
       "  ext                                               text             filename  \\\n",
       "0  py  #coding=utf-8\\n#上面一句是定义python的编码，必须写在第一句\\n\\nfr...  Dm015_dataframe_sum   \n",
       "1  py  \"\"\"passlib.crypto._blowfish.base - unoptimized...                 base   \n",
       "2  py  # coding=utf-8\\n\"\"\"\\ndesc..\\n    :copyright: (...                  app   \n",
       "3  py  # -*- coding: utf-8 -*-\\n#\\n# Copyright (C) 20...            sysconfig   \n",
       "4  py                     /usr/lib/python2.7/copy_reg.py             copy_reg   \n",
       "\n",
       "  lang  file_size_in_byte program_lang doc_type  \n",
       "0   en                648       python     code  \n",
       "1   en              20390       python     code  \n",
       "2   en               3356       python     code  \n",
       "3   en              26955       python     code  \n",
       "4   pt                 30       python     code  "
      ]
     },
     "execution_count": 2,
     "metadata": {},
     "output_type": "execute_result"
    }
   ],
   "source": [
    "import os\n",
    "import fasttext\n",
    "from utils.preprocessing import get_program_lang, get_doc_type\n",
    "import pandas as pd\n",
    "\n",
    "\n",
    "# generate a dataframe of attributes for each code file\n",
    "def generate_attributes_df(raw_code_dir, lang_predictor):\n",
    "\n",
    "    code_list = []\n",
    "    for root, dirs, files in os.walk(raw_code_dir):\n",
    "        for file in files:\n",
    "            cur_code_dict = {}\n",
    "            name, ext = os.path.splitext(file)\n",
    "            ext = ext[1:]\n",
    "            # file extension\n",
    "            cur_code_dict['ext'] = ext\n",
    "\n",
    "            file_path = os.path.join(root, file)\n",
    "            with open(file_path, 'r') as f:\n",
    "                text = f.read()\n",
    "            # file content\n",
    "            cur_code_dict['text'] = text\n",
    "\n",
    "            # file name\n",
    "            cur_code_dict['filename'] = name\n",
    "\n",
    "            # language\n",
    "            predictions = lang_predictor.predict(text.lower().replace(\"\\n\", \" \"))\n",
    "            lang = predictions[0][0].replace('__label__', '')\n",
    "            cur_code_dict['lang'] = lang\n",
    "\n",
    "            # file size in byte\n",
    "            file_size_in_byte = os.path.getsize(file_path)\n",
    "            cur_code_dict['file_size_in_byte'] = file_size_in_byte\n",
    "\n",
    "            # programming language\n",
    "            cur_code_dict['program_lang'] = get_program_lang(name, ext)\n",
    "\n",
    "            # documentation type\n",
    "            cur_code_dict['doc_type'] = get_doc_type(cur_code_dict['program_lang'])\n",
    "\n",
    "            code_list.append(cur_code_dict)\n",
    "\n",
    "    code_df = pd.DataFrame(code_list)\n",
    "\n",
    "    return code_df\n",
    "\n",
    "\n",
    "raw_code_dir = f'{ROOT_PATH}/test_data/raw_code' # your source code directory\n",
    "lang_predictor = fasttext.load_model(f'{ROOT_PATH}/artifacts/lang_predictor.bin') # fasttext language predictor\n",
    "\n",
    "code_df = generate_attributes_df(raw_code_dir, lang_predictor)\n",
    "\n",
    "print(f\"code_df.shape: {code_df.shape}\")\n",
    "code_df.head()"
   ]
  },
  {
   "cell_type": "markdown",
   "metadata": {},
   "source": [
    "### 2. Qualtiy Signal Computing"
   ]
  },
  {
   "cell_type": "markdown",
   "metadata": {},
   "source": [
    "In this step, we compute the quality signal of each file."
   ]
  },
  {
   "cell_type": "code",
   "execution_count": 3,
   "metadata": {},
   "outputs": [
    {
     "name": "stderr",
     "output_type": "stream",
     "text": [
      "  0%|          | 0/120 [00:00<?, ?it/s]/home/light/code/opc_data_filtering/examples/../utils/code/code_utils.py:90: UserWarning: code couldn't be parsed due to compilation failure, no docstring is extracted\n",
      "  warnings.warn(\n",
      "100%|██████████| 120/120 [00:01<00:00, 109.09it/s]\n"
     ]
    },
    {
     "data": {
      "text/html": [
       "<div>\n",
       "<style scoped>\n",
       "    .dataframe tbody tr th:only-of-type {\n",
       "        vertical-align: middle;\n",
       "    }\n",
       "\n",
       "    .dataframe tbody tr th {\n",
       "        vertical-align: top;\n",
       "    }\n",
       "\n",
       "    .dataframe thead th {\n",
       "        text-align: right;\n",
       "    }\n",
       "</style>\n",
       "<table border=\"1\" class=\"dataframe\">\n",
       "  <thead>\n",
       "    <tr style=\"text-align: right;\">\n",
       "      <th></th>\n",
       "      <th>ext</th>\n",
       "      <th>text</th>\n",
       "      <th>filename</th>\n",
       "      <th>lang</th>\n",
       "      <th>file_size_in_byte</th>\n",
       "      <th>program_lang</th>\n",
       "      <th>doc_type</th>\n",
       "      <th>quality_signal</th>\n",
       "    </tr>\n",
       "  </thead>\n",
       "  <tbody>\n",
       "    <tr>\n",
       "      <th>0</th>\n",
       "      <td>py</td>\n",
       "      <td>#coding=utf-8\\n#上面一句是定义python的编码，必须写在第一句\\n\\nfr...</td>\n",
       "      <td>Dm015_dataframe_sum</td>\n",
       "      <td>en</td>\n",
       "      <td>648</td>\n",
       "      <td>python</td>\n",
       "      <td>code</td>\n",
       "      <td>{\"qsc_code_num_words\": 87, \"qsc_code_num_chars...</td>\n",
       "    </tr>\n",
       "    <tr>\n",
       "      <th>1</th>\n",
       "      <td>py</td>\n",
       "      <td>\"\"\"passlib.crypto._blowfish.base - unoptimized...</td>\n",
       "      <td>base</td>\n",
       "      <td>en</td>\n",
       "      <td>20390</td>\n",
       "      <td>python</td>\n",
       "      <td>code</td>\n",
       "      <td>{\"qsc_code_num_words\": 1661, \"qsc_code_num_cha...</td>\n",
       "    </tr>\n",
       "    <tr>\n",
       "      <th>2</th>\n",
       "      <td>py</td>\n",
       "      <td># coding=utf-8\\n\"\"\"\\ndesc..\\n    :copyright: (...</td>\n",
       "      <td>app</td>\n",
       "      <td>en</td>\n",
       "      <td>3356</td>\n",
       "      <td>python</td>\n",
       "      <td>code</td>\n",
       "      <td>{\"qsc_code_num_words\": 459, \"qsc_code_num_char...</td>\n",
       "    </tr>\n",
       "    <tr>\n",
       "      <th>3</th>\n",
       "      <td>py</td>\n",
       "      <td># -*- coding: utf-8 -*-\\n#\\n# Copyright (C) 20...</td>\n",
       "      <td>sysconfig</td>\n",
       "      <td>en</td>\n",
       "      <td>26955</td>\n",
       "      <td>python</td>\n",
       "      <td>code</td>\n",
       "      <td>{\"qsc_code_num_words\": 3245, \"qsc_code_num_cha...</td>\n",
       "    </tr>\n",
       "    <tr>\n",
       "      <th>4</th>\n",
       "      <td>py</td>\n",
       "      <td>/usr/lib/python2.7/copy_reg.py</td>\n",
       "      <td>copy_reg</td>\n",
       "      <td>pt</td>\n",
       "      <td>30</td>\n",
       "      <td>python</td>\n",
       "      <td>code</td>\n",
       "      <td>{\"qsc_code_num_words\": 7, \"qsc_code_num_chars\"...</td>\n",
       "    </tr>\n",
       "  </tbody>\n",
       "</table>\n",
       "</div>"
      ],
      "text/plain": [
       "  ext                                               text             filename  \\\n",
       "0  py  #coding=utf-8\\n#上面一句是定义python的编码，必须写在第一句\\n\\nfr...  Dm015_dataframe_sum   \n",
       "1  py  \"\"\"passlib.crypto._blowfish.base - unoptimized...                 base   \n",
       "2  py  # coding=utf-8\\n\"\"\"\\ndesc..\\n    :copyright: (...                  app   \n",
       "3  py  # -*- coding: utf-8 -*-\\n#\\n# Copyright (C) 20...            sysconfig   \n",
       "4  py                     /usr/lib/python2.7/copy_reg.py             copy_reg   \n",
       "\n",
       "  lang  file_size_in_byte program_lang doc_type  \\\n",
       "0   en                648       python     code   \n",
       "1   en              20390       python     code   \n",
       "2   en               3356       python     code   \n",
       "3   en              26955       python     code   \n",
       "4   pt                 30       python     code   \n",
       "\n",
       "                                      quality_signal  \n",
       "0  {\"qsc_code_num_words\": 87, \"qsc_code_num_chars...  \n",
       "1  {\"qsc_code_num_words\": 1661, \"qsc_code_num_cha...  \n",
       "2  {\"qsc_code_num_words\": 459, \"qsc_code_num_char...  \n",
       "3  {\"qsc_code_num_words\": 3245, \"qsc_code_num_cha...  \n",
       "4  {\"qsc_code_num_words\": 7, \"qsc_code_num_chars\"...  "
      ]
     },
     "execution_count": 3,
     "metadata": {},
     "output_type": "execute_result"
    }
   ],
   "source": [
    "from pipeline.compute_quality_signals import ComputeCodeQualitySignal\n",
    "from tqdm import tqdm\n",
    "import json\n",
    "\n",
    "\n",
    "def compute_qs(row, ccqs: ComputeCodeQualitySignal):\n",
    "    \n",
    "    final_result = ccqs.evaluate(\n",
    "                    text=row['text'],\n",
    "                    filename=row['filename'],\n",
    "                    lang=row['lang'],\n",
    "                    ext=row['ext'],\n",
    "                    file_size_in_byte=row['file_size_in_byte'],\n",
    "                    program_lang=row['program_lang'],\n",
    "                    doc_type=row['doc_type'],\n",
    "                )\n",
    "\n",
    "    return final_result\n",
    "\n",
    "ccqs = ComputeCodeQualitySignal()\n",
    "tqdm.pandas()\n",
    "qsc_results = code_df.progress_apply(compute_qs, axis=1 ,args=(ccqs,))\n",
    "qsc_scores = [json.loads(line)[\"quality_signal\"] for line in qsc_results.tolist()]\n",
    "qsc_score_df = pd.concat([code_df, pd.DataFrame({\"quality_signal\": qsc_scores})], axis=1)\n",
    "qsc_score_df.head(5)"
   ]
  },
  {
   "cell_type": "markdown",
   "metadata": {},
   "source": [
    "### 3. Filtering"
   ]
  },
  {
   "cell_type": "markdown",
   "metadata": {},
   "source": [
    "In this step, we do the filtering process based on the quality signal of each file.\n",
    "\n",
    "Result for one file:\n",
    "- ```effective```: Whether this file is retained or not.\n",
    "- ```hit_map```: The hit status of each filtering rule.\n",
    "- ```err_msg```: [optional] Recording the error message if exists."
   ]
  },
  {
   "cell_type": "code",
   "execution_count": 4,
   "metadata": {},
   "outputs": [
    {
     "name": "stderr",
     "output_type": "stream",
     "text": [
      "100%|██████████| 120/120 [00:00<00:00, 3544.96it/s]\n"
     ]
    }
   ],
   "source": [
    "from pipeline.compute_filtering import CodeFilter\n",
    "\n",
    "def filter_code(row, code_filter: CodeFilter):\n",
    "\n",
    "    final_result = code_filter.evaluate(\n",
    "                    doc_type=row['doc_type'],\n",
    "                    lang=row['lang'],\n",
    "                    program_lang=row['program_lang'],\n",
    "                    quality_signal=row['quality_signal']\n",
    "                )\n",
    "\n",
    "    return final_result\n",
    "\n",
    "code_filter = CodeFilter()\n",
    "tqdm.pandas()\n",
    "filtered_results = qsc_score_df.progress_apply(filter_code, axis=1 ,args=(code_filter,)).tolist()\n",
    "filtered_results = [json.loads(line) for line in filtered_results]"
   ]
  },
  {
   "cell_type": "code",
   "execution_count": 5,
   "metadata": {},
   "outputs": [
    {
     "name": "stdout",
     "output_type": "stream",
     "text": [
      "clean_code_df.shape: (70, 10)\n",
      "Successfully saved 70 clean code files to path: ../test_data/clean_code\n"
     ]
    }
   ],
   "source": [
    "# get the final clean code files and save to the targeted directory\n",
    "\n",
    "clean_code_df = pd.concat([qsc_score_df, pd.DataFrame(filtered_results)], axis=1)\n",
    "clean_code_df = clean_code_df[clean_code_df['effective'] == '1']\n",
    "\n",
    "print(f'clean_code_df.shape: {clean_code_df.shape}')\n",
    "\n",
    "target_dir = f\"{ROOT_PATH}/test_data/clean_code\"\n",
    "\n",
    "for index, row in clean_code_df.iterrows():\n",
    "    if row[\"effective\"]:\n",
    "        cur_dir = f\"{target_dir}/{row['program_lang']}\"\n",
    "        os.makedirs(cur_dir, exist_ok=True)\n",
    "        file_path = os.path.join(cur_dir, row['filename'])\n",
    "        with open(file_path, 'w') as f:\n",
    "            f.write(row['text'])\n",
    "\n",
    "print(f'Successfully saved {clean_code_df.shape[0]} clean code files to path: {target_dir}')"
   ]
  }
 ],
 "metadata": {
  "kernelspec": {
   "display_name": "new_code",
   "language": "python",
   "name": "python3"
  },
  "language_info": {
   "codemirror_mode": {
    "name": "ipython",
    "version": 3
   },
   "file_extension": ".py",
   "mimetype": "text/x-python",
   "name": "python",
   "nbconvert_exporter": "python",
   "pygments_lexer": "ipython3",
   "version": "3.11.11"
  }
 },
 "nbformat": 4,
 "nbformat_minor": 2
}
